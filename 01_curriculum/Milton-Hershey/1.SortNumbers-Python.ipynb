{
 "cells": [
  {
   "cell_type": "markdown",
   "id": "a60cb17e-a76f-4ec4-be2f-859fd4da1d57",
   "metadata": {},
   "source": [
    "<div class=\"alert alert-block alert-success\">\n",
    "<b>mini-Intro to Jupyter Notebooks</b> \n",
    "\n",
    "You are in a web browser window. This is called a *Jupyter notebook*, an online portal that allows you to type code and see the results of what you type as you work. \n",
    "\n",
    "You are also right now working from computing clusters hosted at Cornell that provide a regional hub service for __[Jetstream2 - one of the nationally funded NSF supercomputing sites](https://news.iu.edu/live/news/30451-jetstream2-ai-for-everyone)__ that provides free computing platforms for STEM education. \n",
    "\n",
    "We will do a few very simple examples of how to use this programming platform, hosted at a supercomputing site far away, and have ChatGPT help us generate simple computer programs to do a few simple tasks. Do not worry if you do not know how to code. Feel free to simply work through the steps with us using the code already provided for you below.\n",
    "</div>"
   ]
  },
  {
   "cell_type": "markdown",
   "id": "fff766f2-692b-4c49-85fb-02bbc1e20ada",
   "metadata": {},
   "source": [
    "<div class=\"alert alert-block alert-info\">\n",
    "\n",
    "You can sort a list of numbers in Python using the built-in sorted() function or by using the sort() method of a list. Here's an example using both methods:\n",
    "\n",
    "<b>Method 1:</b> Using the sorted() function to create a new sorted list without modifying the original list:\n",
    "</div>"
   ]
  },
  {
   "cell_type": "code",
   "execution_count": 3,
   "id": "875a56bd-9783-42b8-8bbd-283ec53b07ad",
   "metadata": {},
   "outputs": [
    {
     "name": "stdout",
     "output_type": "stream",
     "text": [
      "Number  List: [5, 2, 9, 1, 5, 6]\n",
      "Sorted numbers: [1, 2, 5, 5, 6, 9]\n"
     ]
    }
   ],
   "source": [
    "# Input list of numbers\n",
    "numbers = [5, 2, 9, 1, 5, 6]\n",
    "\n",
    "# Sort the numbers and create a new sorted list\n",
    "sorted_numbers = sorted(numbers)\n",
    "\n",
    "# Print the sorted list\n",
    "print (\"Number  List:\", numbers)\n",
    "print(\"Sorted numbers:\", sorted_numbers)"
   ]
  },
  {
   "cell_type": "markdown",
   "id": "53d7bc41-9edf-4aa0-8518-6b12f044d275",
   "metadata": {},
   "source": [
    "\n",
    "<div class=\"alert alert-block alert-info\">\n",
    "<b>Method 2:</b> Using the sort() method to sort the list in-place (modifying the original list):\n",
    "</div>\n"
   ]
  },
  {
   "cell_type": "code",
   "execution_count": 2,
   "id": "217bfda0-6971-4ce8-9721-6d67de9ef0e5",
   "metadata": {},
   "outputs": [
    {
     "name": "stdout",
     "output_type": "stream",
     "text": [
      "Sorted numbers: [1, 2, 5, 5, 6, 9]\n"
     ]
    }
   ],
   "source": [
    "# Input list of numbers\n",
    "numbers = [5, 2, 9, 1, 5, 6]\n",
    "\n",
    "# Sort the list in-place\n",
    "numbers.sort()\n",
    "\n",
    "# Print the sorted list\n",
    "print(\"Sorted numbers:\", numbers)\n"
   ]
  },
  {
   "cell_type": "markdown",
   "id": "f8697d8d-330b-450e-af0c-b29d4ce4ad81",
   "metadata": {},
   "source": [
    "<div class=\"alert alert-block alert-info\">\n",
    "Both of these methods will produce a sorted list in <b>ascending order</b>. \n",
    "    \n",
    "If you want to sort the list in <b>descending order</b>, you can use the <b>reverse=True</b> argument with the sorted() function or the sort() method:\n",
    "</div>\n"
   ]
  },
  {
   "cell_type": "code",
   "execution_count": 4,
   "id": "b7b91191-7382-4146-9402-fad11a3abb9b",
   "metadata": {},
   "outputs": [
    {
     "name": "stdout",
     "output_type": "stream",
     "text": [
      "Sorted numbers (descending): [9, 6, 5, 5, 2, 1]\n",
      "Original list sorted in descending order: [9, 6, 5, 5, 2, 1]\n"
     ]
    }
   ],
   "source": [
    "# Sort in descending order using the sorted() function\n",
    "sorted_numbers_descending = sorted(numbers, reverse=True)\n",
    "\n",
    "# Sort in descending order using the sort() method\n",
    "numbers.sort(reverse=True)\n",
    "\n",
    "# Print the sorted list in descending order\n",
    "print(\"Sorted numbers (descending):\", sorted_numbers_descending)\n",
    "print(\"Original list sorted in descending order:\", numbers)\n"
   ]
  }
 ],
 "metadata": {
  "kernelspec": {
   "display_name": "Python 3 (ipykernel)",
   "language": "python",
   "name": "python3"
  },
  "language_info": {
   "codemirror_mode": {
    "name": "ipython",
    "version": 3
   },
   "file_extension": ".py",
   "mimetype": "text/x-python",
   "name": "python",
   "nbconvert_exporter": "python",
   "pygments_lexer": "ipython3",
   "version": "3.10.10"
  }
 },
 "nbformat": 4,
 "nbformat_minor": 5
}
