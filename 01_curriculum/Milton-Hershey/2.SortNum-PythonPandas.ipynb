{
 "cells": [
  {
   "cell_type": "markdown",
   "id": "0f44166f-d052-488b-a03b-83a0b453578d",
   "metadata": {},
   "source": [
    "<div class=\"alert alert-block alert-info\">\n",
    "\n",
    "Now we will use the same simple example. This time we will ask ChatGPT to provide the code for a more involved method for doing the same task. \n",
    "\n",
    "</div>"
   ]
  },
  {
   "cell_type": "markdown",
   "id": "08786159-471d-4cba-99a8-72656eb3ad6e",
   "metadata": {},
   "source": [
    "<div class=\"alert alert-block alert-success\">\n",
    "\n",
    "<b>ChatGPT prompt:</b> <br>\n",
    "<i>write a python script to sort numbers using the pandas library</i>\n",
    "</div>"
   ]
  },
  {
   "cell_type": "markdown",
   "id": "e64a931f-369f-485d-8033-139be3dd08de",
   "metadata": {},
   "source": [
    "<div class=\"alert alert-block alert-info\">\n",
    "\n",
    "<b>ChatGPT Response:</b> To sort numbers using the Pandas library in Python, you can use the sort_values() method of a Pandas DataFrame or Series. Here's an example of how to do it:\n",
    "</div>\n",
    "\n"
   ]
  },
  {
   "cell_type": "code",
   "execution_count": 4,
   "id": "8f4d8e9a-ae6b-418c-b978-8ccf9c992542",
   "metadata": {},
   "outputs": [
    {
     "name": "stdout",
     "output_type": "stream",
     "text": [
      "Sorted numbers (ascending):\n",
      "3    1\n",
      "1    2\n",
      "0    5\n",
      "4    5\n",
      "5    6\n",
      "2    9\n",
      "dtype: int64\n",
      "\n",
      "Sorted numbers (descending):\n",
      "2    9\n",
      "5    6\n",
      "0    5\n",
      "4    5\n",
      "1    2\n",
      "3    1\n",
      "dtype: int64\n"
     ]
    }
   ],
   "source": [
    "import pandas as pd\n",
    "\n",
    "# Create a Pandas Series with numbers\n",
    "data = pd.Series([5, 2, 9, 1, 5, 6])\n",
    "\n",
    "# Sort the Series in ascending order\n",
    "sorted_data_ascending = data.sort_values()\n",
    "\n",
    "# Print the sorted Series\n",
    "print(\"Sorted numbers (ascending):\")\n",
    "print(sorted_data_ascending)\n",
    "\n",
    "# Sort the Series in descending order\n",
    "sorted_data_descending = data.sort_values(ascending=False)\n",
    "\n",
    "# Print the sorted Series in descending order\n",
    "print(\"\\nSorted numbers (descending):\")\n",
    "print(sorted_data_descending)\n"
   ]
  },
  {
   "cell_type": "markdown",
   "id": "9ddf1ee9-dad4-4f6c-b27b-1abd33061494",
   "metadata": {},
   "source": [
    "<div class=\"alert alert-block alert-info\">\n",
    "<b>ChatGPT response</b><br>\n",
    "In this script:\n",
    "<li>We import the Pandas library as <b>pd</b>.</li> \n",
    "<li>We create a Pandas Series called <b>data</b> with the numbers you want to sort.</li> \n",
    "<li>We use the <b>sort_values()</b> method to sort the Series in both ascending and descending order, creating two new Series: <b>sorted_data_ascending </b>and <b>sorted_data_descending.</b></li> \n",
    "<li>Finally, we print the sorted Series to display the sorted numbers.</li>\n",
    "\n",
    "This script will sort the numbers in your Pandas Series either in ascending or descending order, depending on your preference.\n",
    "</div>"
   ]
  }
 ],
 "metadata": {
  "kernelspec": {
   "display_name": "Python 3 (ipykernel)",
   "language": "python",
   "name": "python3"
  },
  "language_info": {
   "codemirror_mode": {
    "name": "ipython",
    "version": 3
   },
   "file_extension": ".py",
   "mimetype": "text/x-python",
   "name": "python",
   "nbconvert_exporter": "python",
   "pygments_lexer": "ipython3",
   "version": "3.10.10"
  }
 },
 "nbformat": 4,
 "nbformat_minor": 5
}
