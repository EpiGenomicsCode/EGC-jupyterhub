{
 "cells": [
  {
   "cell_type": "markdown",
   "id": "c5d9082b-54cf-4353-b3d7-93a84dc6ac1a",
   "metadata": {},
   "source": [
    "<div class=\"alert alert-block alert-info\">\n",
    "\n",
    "We will still sort data, but now we will use ChatGPT to generate a small test dataset for a more realistic example. \n",
    "<br>\n",
    "This time also we will see an example of how ChatGPT can work with previously created data. And also how a Jupyter notebook can create files and work with prior information on the same notebook page.\n",
    "</div>"
   ]
  },
  {
   "cell_type": "markdown",
   "id": "338379b3-193f-49f5-a6d9-11349d0620a3",
   "metadata": {},
   "source": [
    "<div class=\"alert alert-block alert-success\">\n",
    "\n",
    "<b>ChatGPT prompt:</b> <br>\n",
    "<i>generate a csv file for 20 students with various grades</i>\n",
    "</div>"
   ]
  },
  {
   "cell_type": "markdown",
   "id": "5571e9de-7352-4807-98c5-f64f51a7cdc0",
   "metadata": {},
   "source": [
    "<div class=\"alert alert-block alert-info\">\n",
    "\n",
    "<b>ChatGPT Response:</b> To generate a CSV file for 20 students with various grades in Python, you can use the csv module to create and write the data to a CSV file. \n",
    "<br>\n",
    "Here's an example of how to generate such a CSV file:\n",
    "</div>\n",
    "\n"
   ]
  },
  {
   "cell_type": "code",
   "execution_count": 1,
   "id": "9e2fb80e-d115-45ec-a528-347f48facd8d",
   "metadata": {},
   "outputs": [
    {
     "name": "stdout",
     "output_type": "stream",
     "text": [
      "CSV file 'student_grades.csv' has been generated with 20 students and their grades.\n"
     ]
    }
   ],
   "source": [
    "import csv\n",
    "import random\n",
    "import os\n",
    "\n",
    "# Define the number of students\n",
    "num_students = 20\n",
    "\n",
    "# Create a list of student data\n",
    "student_data = []\n",
    "for i in range(1, num_students + 1):\n",
    "    name = f\"Student {i}\"\n",
    "    math_grade = random.randint(60, 100)\n",
    "    science_grade = random.randint(60, 100)\n",
    "    english_grade = random.randint(60, 100)\n",
    "    student_data.append([name, math_grade, science_grade, english_grade])\n",
    "\n",
    "# Define the CSV file name\n",
    "csv_file = os.path.expanduser('~/student_grades.csv')\n",
    "\n",
    "# Write the data to the CSV file\n",
    "with open(csv_file, mode=\"w\", newline=\"\") as file:\n",
    "    writer = csv.writer(file)\n",
    "    \n",
    "    # Write the header row\n",
    "    writer.writerow([\"Name\", \"Math Grade\", \"Science Grade\", \"English Grade\"])\n",
    "    \n",
    "    # Write the student data\n",
    "    writer.writerows(student_data)\n",
    "\n",
    "print(f\"CSV file '{csv_file}' has been generated with {num_students} students and their grades.\")\n"
   ]
  },
  {
   "cell_type": "markdown",
   "id": "8259f461-4b1d-4de0-9140-7b894d0be469",
   "metadata": {},
   "source": [
    "<div class=\"alert alert-block alert-info\">\n",
    "\n",
    "<b>ChatGPT Response:</b> This script will create a CSV file named \"student_grades.csv\" with 20 students, and each student will have random grades in math, science, and English within the range of 60 to 100. You can modify the grade range or any other details to suit your needs.\n",
    "<br>\n"
   ]
  },
  {
   "cell_type": "markdown",
   "id": "e795f27a-62bd-4819-82de-a55550dfe0c1",
   "metadata": {},
   "source": [
    "<div class=\"alert alert-block alert-success\">\n",
    "\n",
    "<b>ChatGPT prompt:</b> <br>\n",
    "<i>now provide the code to sort the students to show which have the highest grades in math and overall</i>\n",
    "</div></div>"
   ]
  },
  {
   "cell_type": "markdown",
   "id": "741df774-41f1-43e2-b4d2-c549a2265cac",
   "metadata": {},
   "source": [
    "<div class=\"alert alert-block alert-info\">\n",
    "\n",
    "<b>ChatGPT Response:</b> You can sort the students to show which ones have the highest grades in math and overall by reading the CSV file, sorting the data based on the criteria, and then printing the results.<br> \n",
    "\n",
    "Here's a Python script that does that:\n",
    "</div>"
   ]
  },
  {
   "cell_type": "code",
   "execution_count": 2,
   "id": "cfe71cfb-cd69-4c12-86b5-a65e9db87461",
   "metadata": {},
   "outputs": [
    {
     "name": "stdout",
     "output_type": "stream",
     "text": [
      "Students with the highest math grade:\n",
      "Student 18: 99\n",
      "\n",
      "Students with the highest overall grade:\n",
      "Student 18: 95.33\n"
     ]
    }
   ],
   "source": [
    "import csv\n",
    "\n",
    "# Function to calculate the overall grade (average of math, science, and English)\n",
    "def calculate_overall_grade(row):\n",
    "    return (row[\"Math Grade\"] + row[\"Science Grade\"] + row[\"English Grade\"]) / 3\n",
    "\n",
    "# Read the CSV file\n",
    "csv_file = os.path.expanduser('~/student_grades.csv')\n",
    "students = []\n",
    "\n",
    "with open(csv_file, mode=\"r\") as file:\n",
    "    reader = csv.DictReader(file)\n",
    "    for row in reader:\n",
    "        students.append({\n",
    "            \"Name\": row[\"Name\"],\n",
    "            \"Math Grade\": int(row[\"Math Grade\"]),\n",
    "            \"Science Grade\": int(row[\"Science Grade\"]),\n",
    "            \"English Grade\": int(row[\"English Grade\"])\n",
    "        })\n",
    "\n",
    "# Sort students by math grade in descending order\n",
    "sorted_students_math = sorted(students, key=lambda x: x[\"Math Grade\"], reverse=True)\n",
    "\n",
    "# Sort students by overall grade in descending order\n",
    "sorted_students_overall = sorted(students, key=calculate_overall_grade, reverse=True)\n",
    "\n",
    "# Print students with the highest math grade\n",
    "print(\"Students with the highest math grade:\")\n",
    "for i, student in enumerate(sorted_students_math):\n",
    "    if i == 0 or student[\"Math Grade\"] == sorted_students_math[0][\"Math Grade\"]:\n",
    "        print(f\"{student['Name']}: {student['Math Grade']}\")\n",
    "\n",
    "# Print students with the highest overall grade\n",
    "print(\"\\nStudents with the highest overall grade:\")\n",
    "for i, student in enumerate(sorted_students_overall):\n",
    "    if i == 0 or calculate_overall_grade(student) == calculate_overall_grade(sorted_students_overall[0]):\n",
    "        print(f\"{student['Name']}: {calculate_overall_grade(student):.2f}\")\n"
   ]
  },
  {
   "cell_type": "markdown",
   "id": "75ff8edf-506e-43f1-b3d8-5a475fb8c96a",
   "metadata": {},
   "source": [
    "<div class=\"alert alert-block alert-info\">\n",
    "\n",
    "<b>ChatGPT Response:</b> This script first calculates the overall grade for each student (the average of math, science, and English grades) and then sorts the students based on their math grades and overall grades in descending order. Finally, it prints the students with the highest math grade and the students with the highest overall grade.\n",
    "</div>"
   ]
  }
 ],
 "metadata": {
  "kernelspec": {
   "display_name": "Python 3 (ipykernel)",
   "language": "python",
   "name": "python3"
  },
  "language_info": {
   "codemirror_mode": {
    "name": "ipython",
    "version": 3
   },
   "file_extension": ".py",
   "mimetype": "text/x-python",
   "name": "python",
   "nbconvert_exporter": "python",
   "pygments_lexer": "ipython3",
   "version": "3.10.10"
  }
 },
 "nbformat": 4,
 "nbformat_minor": 5
}
