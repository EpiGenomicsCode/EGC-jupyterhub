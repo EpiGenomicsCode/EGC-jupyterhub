{
 "cells": [
  {
   "cell_type": "markdown",
   "id": "ae1cc796-47e3-46f9-8fbc-30c312ff377c",
   "metadata": {},
   "source": [
    "<div class=\"alert alert-block alert-info\">\n",
    "\n",
    "Finally, we are still just sorting data which is a simple problem. Now we will use ChatGPT to generate a machine learning example - which is completely unrealistic for such a simple problem, but serves to provide the comparison for this class. \n",
    "<br>\n",
    "\n",
    "\n",
    "</div>"
   ]
  },
  {
   "cell_type": "markdown",
   "id": "f723b4cc-2944-4443-b2fc-2500ca296258",
   "metadata": {},
   "source": [
    "<div class=\"alert alert-block alert-success\">\n",
    "\n",
    "<b>ChatGPT prompt:</b> <br>\n",
    "<i>this is an example for educational purposes only - have the machine learning approach generate the function</i>"
   ]
  },
  {
   "cell_type": "code",
   "execution_count": 1,
   "id": "67b714b7-cc33-405e-a448-baa3461f9595",
   "metadata": {},
   "outputs": [
    {
     "ename": "ModuleNotFoundError",
     "evalue": "No module named 'sklearn'",
     "output_type": "error",
     "traceback": [
      "\u001b[0;31m---------------------------------------------------------------------------\u001b[0m",
      "\u001b[0;31mModuleNotFoundError\u001b[0m                       Traceback (most recent call last)",
      "Cell \u001b[0;32mIn[1], line 2\u001b[0m\n\u001b[1;32m      1\u001b[0m \u001b[38;5;28;01mimport\u001b[39;00m \u001b[38;5;21;01mpandas\u001b[39;00m \u001b[38;5;28;01mas\u001b[39;00m \u001b[38;5;21;01mpd\u001b[39;00m\n\u001b[0;32m----> 2\u001b[0m \u001b[38;5;28;01mfrom\u001b[39;00m \u001b[38;5;21;01msklearn\u001b[39;00m\u001b[38;5;21;01m.\u001b[39;00m\u001b[38;5;21;01mlinear_model\u001b[39;00m \u001b[38;5;28;01mimport\u001b[39;00m LinearRegression\n\u001b[1;32m      3\u001b[0m \u001b[38;5;28;01mfrom\u001b[39;00m \u001b[38;5;21;01msklearn\u001b[39;00m\u001b[38;5;21;01m.\u001b[39;00m\u001b[38;5;21;01mmodel_selection\u001b[39;00m \u001b[38;5;28;01mimport\u001b[39;00m train_test_split\n\u001b[1;32m      4\u001b[0m \u001b[38;5;28;01mfrom\u001b[39;00m \u001b[38;5;21;01msklearn\u001b[39;00m\u001b[38;5;21;01m.\u001b[39;00m\u001b[38;5;21;01mmetrics\u001b[39;00m \u001b[38;5;28;01mimport\u001b[39;00m mean_squared_error\n",
      "\u001b[0;31mModuleNotFoundError\u001b[0m: No module named 'sklearn'"
     ]
    }
   ],
   "source": [
    "import pandas as pd\n",
    "import os\n",
    "from sklearn.linear_model import LinearRegression\n",
    "from sklearn.model_selection import train_test_split\n",
    "from sklearn.metrics import mean_squared_error\n",
    "import numpy as np\n",
    "\n",
    "# Read the CSV file containing student data\n",
    "csv_file = os.path.expanduser('~/student_grades.csv')\n",
    "df = pd.read_csv(csv_file)\n",
    "\n",
    "# Define the features (science and English grades) and the target variables (math and overall grades)\n",
    "X = df[['Science Grade', 'English Grade']]\n",
    "y_math = df['Math Grade']\n",
    "y_overall = (df['Math Grade'] + df['Science Grade'] + df['English Grade']) / 3\n",
    "\n",
    "# Split the data into training and testing sets\n",
    "X_train, X_test, y_math_train, y_math_test, y_overall_train, y_overall_test = train_test_split(\n",
    "    X, y_math, y_overall, test_size=0.2, random_state=42\n",
    ")\n",
    "\n",
    "# Create linear regression models for math and overall grades\n",
    "math_model = LinearRegression()\n",
    "overall_model = LinearRegression()\n",
    "\n",
    "# Train the models\n",
    "math_model.fit(X_train, y_math_train)\n",
    "overall_model.fit(X_train, y_overall_train)\n",
    "\n",
    "# Make predictions\n",
    "y_math_pred = math_model.predict(X_test)\n",
    "y_overall_pred = overall_model.predict(X_test)\n",
    "\n",
    "# Calculate Mean Squared Error (MSE) as a measure of model performance\n",
    "mse_math = mean_squared_error(y_math_test, y_math_pred)\n",
    "mse_overall = mean_squared_error(y_overall_test, y_overall_pred)\n",
    "\n",
    "print(f\"Math Grade Model MSE: {mse_math:.2f}\")\n",
    "print(f\"Overall Grade Model MSE: {mse_overall:.2f}\")\n",
    "\n",
    "# Function to sort students based on math grades\n",
    "def sort_students_by_math_grade(data):\n",
    "    data['Math Grade'] = math_model.predict(data[['Science Grade', 'English Grade']])\n",
    "    return data.sort_values(by='Math Grade', ascending=False)\n",
    "\n",
    "# Function to sort students based on overall grades\n",
    "def sort_students_by_overall_grade(data):\n",
    "    data['Overall Grade'] = overall_model.predict(data[['Science Grade', 'English Grade']])\n",
    "    return data.sort_values(by='Overall Grade', ascending=False)\n",
    "\n",
    "# Sort students based on math grades and overall grades\n",
    "sorted_by_math = sort_students_by_math_grade(df.copy())\n",
    "sorted_by_overall = sort_students_by_overall_grade(df.copy())\n",
    "\n",
    "# Print the top students based on math grades and overall grades\n",
    "print(\"\\nTop Students Based on Math Grades:\")\n",
    "print(sorted_by_math.head())\n",
    "\n",
    "print(\"\\nTop Students Based on Overall Grades:\")\n",
    "print(sorted_by_overall.head())\n"
   ]
  },
  {
   "cell_type": "markdown",
   "id": "7c833e81-c07f-4016-82ff-2d9adba7b167",
   "metadata": {},
   "source": [
    "<div class=\"alert alert-block alert-info\">\n",
    "\n",
    "<b>ChatGPT Response:</b> Using machine learning to generate a function for this specific task, such as sorting students based on their grades, is not a practical approach because it's a relatively simple problem that doesn't require complex machine learning models. You can effectively sort and process data like this using traditional programming techniques, as demonstrated in the previous Python script.\n",
    "<br>\n",
    "<br>\n",
    "Machine learning is typically used for tasks that involve complex patterns, predictions, or decision-making based on data that may not be easily expressed by traditional rules. In this case, sorting students by their grades is straightforward and doesn't require machine learning.\n",
    "<br>\n",
    "\n",
    "However, if you're interested in exploring machine learning for educational purposes or other applications, you can certainly do so. Just keep in mind that for tasks like sorting data, traditional programming is often more efficient and straightforward.\n",
    "</div>"
   ]
  },
  {
   "cell_type": "code",
   "execution_count": null,
   "id": "280297e7-e473-426b-90c6-1494d9c7d5e5",
   "metadata": {},
   "outputs": [],
   "source": []
  }
 ],
 "metadata": {
  "kernelspec": {
   "display_name": "Python 3 (ipykernel)",
   "language": "python",
   "name": "python3"
  },
  "language_info": {
   "codemirror_mode": {
    "name": "ipython",
    "version": 3
   },
   "file_extension": ".py",
   "mimetype": "text/x-python",
   "name": "python",
   "nbconvert_exporter": "python",
   "pygments_lexer": "ipython3",
   "version": "3.10.10"
  }
 },
 "nbformat": 4,
 "nbformat_minor": 5
}
